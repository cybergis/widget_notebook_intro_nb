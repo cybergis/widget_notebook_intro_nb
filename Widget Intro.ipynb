{
 "cells": [
  {
   "cell_type": "markdown",
   "metadata": {},
   "source": [
    "## How to Use iPython Widgets in A Jupyter Notebook"
   ]
  },
  {
   "cell_type": "markdown",
   "metadata": {},
   "source": [
    "**Author:** Becky Vandewalle (rcv3@illinois.edu)\n",
    "<br>**Created:** May 10, 2021\n",
    "<br>**Last Updated:** May 19, 2021\n",
    "\n",
    "This notebook introduces iPython widgets and demonstrates simple ways to use them."
   ]
  },
  {
   "cell_type": "markdown",
   "metadata": {},
   "source": [
    "### Contents\n",
    "- [Imports](#import)\n",
    "- [What is a widget?](#what_is)\n",
    "- [Common widget types](#common)\n",
    "- [Handling simple widget events](#simple_event) - skip to here if you are familiar with available widgets\n",
    "- [Using Widgets with Folium Maps](#folium)"
   ]
  },
  {
   "cell_type": "markdown",
   "metadata": {},
   "source": [
    "<a id=\"import\"></a>\n",
    "### Imports"
   ]
  },
  {
   "cell_type": "markdown",
   "metadata": {},
   "source": [
    "**Important!** You must run the next cell so that all the code examples in this notebook work."
   ]
  },
  {
   "cell_type": "code",
   "execution_count": 1,
   "metadata": {},
   "outputs": [],
   "source": [
    "# import required libraries\n",
    "import ipywidgets as widgets\n",
    "import matplotlib.pyplot as plt"
   ]
  },
  {
   "cell_type": "markdown",
   "metadata": {},
   "source": [
    "<a id=\"what_is\"></a>\n",
    "### What is a widget?"
   ]
  },
  {
   "cell_type": "markdown",
   "metadata": {},
   "source": [
    "A widget is an object that can be used to get information to or from someone who is using a Jupyter notebook without requiring them to insert or change code in a code cell. Some common widgets are buttons, sliders, and text boxes. This type of object is also called an \"event handler\", because it is an object that does something when an event, such as a mouse click or pressing a key, happens.\n",
    "\n",
    "This is a simple overview of some common widgets. For more detailed information, refer to documentation [here](https://ipywidgets.readthedocs.io/en/latest/index.html). Some of the examples in this tutorial are based off an widget introduction found at https://ipywidgets.readthedocs.io/en/latest/examples/Widget%20Basics.html."
   ]
  },
  {
   "cell_type": "markdown",
   "metadata": {},
   "source": [
    "#### Simple widget examples"
   ]
  },
  {
   "cell_type": "markdown",
   "metadata": {},
   "source": [
    "You can see a simple widget by running the next code cell. The first line creates a widget and the second line displays it. Click on the slider's circle and drag it. What happens to the number on the right when you do this?"
   ]
  },
  {
   "cell_type": "code",
   "execution_count": 2,
   "metadata": {},
   "outputs": [
    {
     "data": {
      "application/vnd.jupyter.widget-view+json": {
       "model_id": "b298ba2e8cc441fcb214a1ee3f889344",
       "version_major": 2,
       "version_minor": 0
      },
      "text/plain": [
       "IntSlider(value=0)"
      ]
     },
     "metadata": {},
     "output_type": "display_data"
    }
   ],
   "source": [
    "w = widgets.IntSlider()\n",
    "display(w)"
   ]
  },
  {
   "cell_type": "markdown",
   "metadata": {},
   "source": [
    "Now that we have a widget object, `w`, we can print the value:"
   ]
  },
  {
   "cell_type": "code",
   "execution_count": 3,
   "metadata": {},
   "outputs": [
    {
     "data": {
      "text/plain": [
       "0"
      ]
     },
     "execution_count": 3,
     "metadata": {},
     "output_type": "execute_result"
    }
   ],
   "source": [
    "w.value"
   ]
  },
  {
   "cell_type": "markdown",
   "metadata": {},
   "source": [
    "Note that when if you display the value and then change the slider the printed value does not also change. However, you can display dynamic text by linking the slider widget to a text widget as shown below. "
   ]
  },
  {
   "cell_type": "code",
   "execution_count": 4,
   "metadata": {},
   "outputs": [
    {
     "data": {
      "application/vnd.jupyter.widget-view+json": {
       "model_id": "527415ced7f74a34a02a6aa6b426cbd1",
       "version_major": 2,
       "version_minor": 0
      },
      "text/plain": [
       "IntSlider(value=0)"
      ]
     },
     "metadata": {},
     "output_type": "display_data"
    },
    {
     "data": {
      "application/vnd.jupyter.widget-view+json": {
       "model_id": "ea72ecdca46d4fed8e2de255edb7442a",
       "version_major": 2,
       "version_minor": 0
      },
      "text/plain": [
       "FloatText(value=0.0)"
      ]
     },
     "metadata": {},
     "output_type": "display_data"
    }
   ],
   "source": [
    "s = widgets.IntSlider()\n",
    "t = widgets.FloatText()\n",
    "display(s, t)\n",
    "\n",
    "wlink = widgets.jslink((s, 'value'), (t, 'value'))"
   ]
  },
  {
   "cell_type": "markdown",
   "metadata": {},
   "source": [
    "Notice that we have used `value` twice now. We can access it and other widget attributes through a list of keys that each widget has:"
   ]
  },
  {
   "cell_type": "code",
   "execution_count": 5,
   "metadata": {},
   "outputs": [
    {
     "name": "stdout",
     "output_type": "stream",
     "text": [
      "['_dom_classes', '_model_module', '_model_module_version', '_model_name', '_view_count', '_view_module', '_view_module_version', '_view_name', 'continuous_update', 'description', 'description_tooltip', 'disabled', 'layout', 'max', 'min', 'orientation', 'readout', 'readout_format', 'step', 'style', 'value']\n"
     ]
    }
   ],
   "source": [
    "print([i for i in w.keys])"
   ]
  },
  {
   "cell_type": "markdown",
   "metadata": {},
   "source": [
    "We can use these keys to pass information to a widget when creating it as in the below example. If you disable a widget the value will not be able to be changed by interacting directly with the widget."
   ]
  },
  {
   "cell_type": "code",
   "execution_count": 6,
   "metadata": {},
   "outputs": [
    {
     "data": {
      "application/vnd.jupyter.widget-view+json": {
       "model_id": "ebfcc479c8d34d13b9e411ccc7a542d2",
       "version_major": 2,
       "version_minor": 0
      },
      "text/plain": [
       "Text(value='This is some text!', disabled=True)"
      ]
     },
     "metadata": {},
     "output_type": "display_data"
    },
    {
     "data": {
      "application/vnd.jupyter.widget-view+json": {
       "model_id": "",
       "version_major": 2,
       "version_minor": 0
      },
      "text/plain": [
       "IntSlider(value=29, disabled=True)"
      ]
     },
     "metadata": {},
     "output_type": "display_data"
    }
   ],
   "source": [
    "tx = widgets.Text(value='This is some text!', disabled=True)\n",
    "wd = widgets.IntSlider(value=29, disabled=True)\n",
    "display(tx, wd)"
   ]
  },
  {
   "cell_type": "markdown",
   "metadata": {},
   "source": [
    "Even if a widget is disabled, however, the value can be changed programatically by assigning a different number to the widget value. "
   ]
  },
  {
   "cell_type": "code",
   "execution_count": 7,
   "metadata": {},
   "outputs": [
    {
     "data": {
      "text/plain": [
       "30"
      ]
     },
     "execution_count": 7,
     "metadata": {},
     "output_type": "execute_result"
    }
   ],
   "source": [
    "wd.value=30\n",
    "wd.value"
   ]
  },
  {
   "cell_type": "markdown",
   "metadata": {},
   "source": [
    "Note that you can close a widget by calling `.close()`. This hides the widget but you can still access the widget's attirbutes."
   ]
  },
  {
   "cell_type": "code",
   "execution_count": 8,
   "metadata": {},
   "outputs": [
    {
     "data": {
      "text/plain": [
       "30"
      ]
     },
     "execution_count": 8,
     "metadata": {},
     "output_type": "execute_result"
    }
   ],
   "source": [
    "wd.close()\n",
    "wd.value"
   ]
  },
  {
   "cell_type": "markdown",
   "metadata": {},
   "source": [
    "<a id=\"common\"></a>\n",
    "### Common widget types"
   ]
  },
  {
   "cell_type": "markdown",
   "metadata": {},
   "source": [
    "Here a few different common types of widgets will be displayed with some important values set. You can base new widgets off of these examples. For more details of available widgets, see the [widget list here](https://ipywidgets.readthedocs.io/en/latest/examples/Widget%20List.html)."
   ]
  },
  {
   "cell_type": "markdown",
   "metadata": {},
   "source": [
    "One of the most important types of widgets is a basic button. It can be clicked, although nothing will happen until some code is linked to the button."
   ]
  },
  {
   "cell_type": "code",
   "execution_count": 9,
   "metadata": {},
   "outputs": [
    {
     "data": {
      "application/vnd.jupyter.widget-view+json": {
       "model_id": "ebaf88a38892436ab04264372b12b1ab",
       "version_major": 2,
       "version_minor": 0
      },
      "text/plain": [
       "Button(description='Click the button', style=ButtonStyle())"
      ]
     },
     "metadata": {},
     "output_type": "display_data"
    }
   ],
   "source": [
    "cb = widgets.Button(description='Click the button')\n",
    "\n",
    "display(cb)"
   ]
  },
  {
   "cell_type": "markdown",
   "metadata": {},
   "source": [
    "A slider is commonly used for numeric input."
   ]
  },
  {
   "cell_type": "code",
   "execution_count": 10,
   "metadata": {},
   "outputs": [
    {
     "data": {
      "application/vnd.jupyter.widget-view+json": {
       "model_id": "42962de09b4a49bd895ac56de711e929",
       "version_major": 2,
       "version_minor": 0
      },
      "text/plain": [
       "IntSlider(value=3, description='Slider', max=9, readout=False, step=3)"
      ]
     },
     "metadata": {},
     "output_type": "display_data"
    },
    {
     "data": {
      "application/vnd.jupyter.widget-view+json": {
       "model_id": "5d22327c1f13484494376d5611f9790b",
       "version_major": 2,
       "version_minor": 0
      },
      "text/plain": [
       "FloatSlider(value=3.0, max=9.0, step=3.0)"
      ]
     },
     "metadata": {},
     "output_type": "display_data"
    },
    {
     "data": {
      "application/vnd.jupyter.widget-view+json": {
       "model_id": "889b7885aea44a9d95a6a5c404f71cff",
       "version_major": 2,
       "version_minor": 0
      },
      "text/plain": [
       "FloatSlider(value=3.0, max=9.0, orientation='vertical', readout_format='.1f', step=3.0)"
      ]
     },
     "metadata": {},
     "output_type": "display_data"
    }
   ],
   "source": [
    "nsa = widgets.IntSlider(value=3, min=0, max=9, step=3, description='Slider', readout=False)\n",
    "nsb = widgets.FloatSlider(value=3, min=0, max=9, step=3)\n",
    "nsc = widgets.FloatSlider(value=3, min=0, max=9, step=3, orientation='vertical', readout_format='.1f')\n",
    "\n",
    "display(nsa, nsb, nsc)"
   ]
  },
  {
   "cell_type": "markdown",
   "metadata": {},
   "source": [
    "Generally speaking, `Int` and `Float` can be used in the same place to specify the type of number wanted."
   ]
  },
  {
   "cell_type": "code",
   "execution_count": 11,
   "metadata": {},
   "outputs": [
    {
     "data": {
      "application/vnd.jupyter.widget-view+json": {
       "model_id": "0d9903301ece4d6bbb981d8f6da64212",
       "version_major": 2,
       "version_minor": 0
      },
      "text/plain": [
       "IntRangeSlider(value=(1, 2), max=10)"
      ]
     },
     "metadata": {},
     "output_type": "display_data"
    },
    {
     "data": {
      "application/vnd.jupyter.widget-view+json": {
       "model_id": "d32ca3735c0f4d789ec5c08e97e15fef",
       "version_major": 2,
       "version_minor": 0
      },
      "text/plain": [
       "FloatRangeSlider(value=(6.0, 9.0), max=10.0)"
      ]
     },
     "metadata": {},
     "output_type": "display_data"
    }
   ],
   "source": [
    "nsd = widgets.IntRangeSlider(value=[1, 2], min=0, max=10)\n",
    "nse = widgets.FloatRangeSlider(value=[6, 9], min=0, max=10)\n",
    "\n",
    "display(nsd, nse)"
   ]
  },
  {
   "cell_type": "markdown",
   "metadata": {},
   "source": [
    "Progress bars can also be very hand."
   ]
  },
  {
   "cell_type": "code",
   "execution_count": 12,
   "metadata": {},
   "outputs": [
    {
     "data": {
      "application/vnd.jupyter.widget-view+json": {
       "model_id": "603edf79cbe04dbc9f1f39fcdc10e219",
       "version_major": 2,
       "version_minor": 0
      },
      "text/plain": [
       "FloatProgress(value=6.5, max=10.0, style=ProgressStyle(bar_color='#eeaa00'))"
      ]
     },
     "metadata": {},
     "output_type": "display_data"
    }
   ],
   "source": [
    "pba = widgets.FloatProgress(value=6.5, min=0, max=10.0,\n",
    "                      style={'bar_color': '#eeaa00'})\n",
    "\n",
    "display(pba)"
   ]
  },
  {
   "cell_type": "markdown",
   "metadata": {},
   "source": [
    "Sometimes it can be easier to select a number from a box."
   ]
  },
  {
   "cell_type": "code",
   "execution_count": 13,
   "metadata": {},
   "outputs": [
    {
     "data": {
      "application/vnd.jupyter.widget-view+json": {
       "model_id": "ef1c3acc3d1a4fc4b8bdc1cb700fb300",
       "version_major": 2,
       "version_minor": 0
      },
      "text/plain": [
       "BoundedIntText(value=9, max=10, min=7)"
      ]
     },
     "metadata": {},
     "output_type": "display_data"
    },
    {
     "data": {
      "application/vnd.jupyter.widget-view+json": {
       "model_id": "f18f7313268044319b474d4dcbadc6ac",
       "version_major": 2,
       "version_minor": 0
      },
      "text/plain": [
       "IntText(value=9)"
      ]
     },
     "metadata": {},
     "output_type": "display_data"
    }
   ],
   "source": [
    "nta = widgets.BoundedIntText(value=9, min=7, max=10)\n",
    "ntb = widgets.IntText(value=9)\n",
    "display(nta, ntb)"
   ]
  },
  {
   "cell_type": "markdown",
   "metadata": {},
   "source": [
    "Users can input a true or false value with a button or check box. The Valid widget is an easy way to indicate if input is valid or invalid."
   ]
  },
  {
   "cell_type": "code",
   "execution_count": 14,
   "metadata": {},
   "outputs": [
    {
     "data": {
      "application/vnd.jupyter.widget-view+json": {
       "model_id": "8120f4c10962455799380dd0de0b651a",
       "version_major": 2,
       "version_minor": 0
      },
      "text/plain": [
       "ToggleButton(value=False, description='Toggle!', tooltip='click to change')"
      ]
     },
     "metadata": {},
     "output_type": "display_data"
    },
    {
     "data": {
      "application/vnd.jupyter.widget-view+json": {
       "model_id": "99d15d1ee7f84f8fbc80c0cd74801bab",
       "version_major": 2,
       "version_minor": 0
      },
      "text/plain": [
       "Checkbox(value=False, description='Check box')"
      ]
     },
     "metadata": {},
     "output_type": "display_data"
    },
    {
     "data": {
      "application/vnd.jupyter.widget-view+json": {
       "model_id": "095991210fae4088aab874ad9799af83",
       "version_major": 2,
       "version_minor": 0
      },
      "text/plain": [
       "Valid(value=True, description='Is it valid?')"
      ]
     },
     "metadata": {},
     "output_type": "display_data"
    },
    {
     "data": {
      "application/vnd.jupyter.widget-view+json": {
       "model_id": "52b161a49b8f4560bdf2d91bc876d154",
       "version_major": 2,
       "version_minor": 0
      },
      "text/plain": [
       "Valid(value=False, description='Is it valid?', readout='')"
      ]
     },
     "metadata": {},
     "output_type": "display_data"
    }
   ],
   "source": [
    "ba = widgets.ToggleButton(value=False, description='Toggle!', tooltip=\"click to change\")\n",
    "bb = widgets.Checkbox(value=False, description=\"Check box\")\n",
    "bc = widgets.Valid(value=True, description='Is it valid?')\n",
    "bd = widgets.Valid(value=False, description='Is it valid?', readout=\"\")\n",
    "\n",
    "display(ba, bb, bc, bd)"
   ]
  },
  {
   "cell_type": "markdown",
   "metadata": {},
   "source": [
    "It is also common to select an option from a set of defined options."
   ]
  },
  {
   "cell_type": "code",
   "execution_count": 15,
   "metadata": {},
   "outputs": [
    {
     "data": {
      "application/vnd.jupyter.widget-view+json": {
       "model_id": "5f4d7ff45a734cdb8a46987f9fa6a2c8",
       "version_major": 2,
       "version_minor": 0
      },
      "text/plain": [
       "Dropdown(description='Pick one:', index=2, options=(2, 4, 6, 8), value=6)"
      ]
     },
     "metadata": {},
     "output_type": "display_data"
    },
    {
     "data": {
      "application/vnd.jupyter.widget-view+json": {
       "model_id": "5c6170545b184b8092323a89e130bad8",
       "version_major": 2,
       "version_minor": 0
      },
      "text/plain": [
       "Dropdown(description='Pick one:', index=2, options=(('Cat', 1), ('Dog', 2), ('Hen', 3)), value=3)"
      ]
     },
     "metadata": {},
     "output_type": "display_data"
    },
    {
     "data": {
      "application/vnd.jupyter.widget-view+json": {
       "model_id": "51787e044fd04c1fbe7e113befc1325e",
       "version_major": 2,
       "version_minor": 0
      },
      "text/plain": [
       "RadioButtons(options=('Cat', 'Dog', 'Hen'), value='Cat')"
      ]
     },
     "metadata": {},
     "output_type": "display_data"
    },
    {
     "data": {
      "application/vnd.jupyter.widget-view+json": {
       "model_id": "8cb88368f9b04adc8bd669d3d6b16823",
       "version_major": 2,
       "version_minor": 0
      },
      "text/plain": [
       "ToggleButtons(options=('Cat', 'Dog', 'Hen'), value='Cat')"
      ]
     },
     "metadata": {},
     "output_type": "display_data"
    },
    {
     "data": {
      "application/vnd.jupyter.widget-view+json": {
       "model_id": "118a9694c2de4a19afd9b755dcd97967",
       "version_major": 2,
       "version_minor": 0
      },
      "text/plain": [
       "Select(options=('Select one', 'Cat', 'Dog', 'Hen'), value='Select one')"
      ]
     },
     "metadata": {},
     "output_type": "display_data"
    },
    {
     "data": {
      "application/vnd.jupyter.widget-view+json": {
       "model_id": "242a0d34f7fa471e89bab17e15be961e",
       "version_major": 2,
       "version_minor": 0
      },
      "text/plain": [
       "SelectMultiple(options=('Select many', 'Cat', 'Dog', 'Hen'), value=())"
      ]
     },
     "metadata": {},
     "output_type": "display_data"
    }
   ],
   "source": [
    "pa = widgets.Dropdown(options=[2, 4, 6, 8], value=6, description='Pick one:')\n",
    "pb = widgets.Dropdown(options=[('Cat', 1), ('Dog', 2), ('Hen', 3)], value=3, description='Pick one:')\n",
    "pc = widgets.RadioButtons(options=['Cat', 'Dog', 'Hen'])\n",
    "pd = widgets.ToggleButtons(options=['Cat', 'Dog', 'Hen'])\n",
    "pe = widgets.Select(options=['Select one', 'Cat', 'Dog', 'Hen'], value='Select one')\n",
    "pf = widgets.SelectMultiple(options=['Select many', 'Cat', 'Dog', 'Hen'])\n",
    "\n",
    "display(pa, pb, pc, pd, pe, pf)"
   ]
  },
  {
   "cell_type": "markdown",
   "metadata": {},
   "source": [
    "It is also often necessicary to input text."
   ]
  },
  {
   "cell_type": "code",
   "execution_count": 16,
   "metadata": {},
   "outputs": [
    {
     "data": {
      "application/vnd.jupyter.widget-view+json": {
       "model_id": "34af2e3921eb441199c1f50aafe22825",
       "version_major": 2,
       "version_minor": 0
      },
      "text/plain": [
       "Text(value='Hello!')"
      ]
     },
     "metadata": {},
     "output_type": "display_data"
    },
    {
     "data": {
      "application/vnd.jupyter.widget-view+json": {
       "model_id": "4d3ac7c783cd4a73bbe6ad594dcdb4be",
       "version_major": 2,
       "version_minor": 0
      },
      "text/plain": [
       "Textarea(value='Hello! Type something longer here!')"
      ]
     },
     "metadata": {},
     "output_type": "display_data"
    }
   ],
   "source": [
    "ta = widgets.Text(value='Hello!')\n",
    "tb = widgets.Textarea(value='Hello! Type something longer here!')\n",
    "\n",
    "display(ta, tb)"
   ]
  },
  {
   "cell_type": "markdown",
   "metadata": {},
   "source": [
    "There are several more powerful widgets that you might have a certain use for, such as the `HTML`, `HTML Math`, `Image`, `Output`, `Play`, or `File Upload` widgets which you can check out [here](https://ipywidgets.readthedocs.io/en/latest/examples/Widget%20List.html#HTML). Two that might be useful for geospatial data are the `Date Picker` and `Color Picker` widgets, which are shown below."
   ]
  },
  {
   "cell_type": "code",
   "execution_count": 17,
   "metadata": {},
   "outputs": [
    {
     "data": {
      "application/vnd.jupyter.widget-view+json": {
       "model_id": "034cd6666f334da1a1f8a5102577abb7",
       "version_major": 2,
       "version_minor": 0
      },
      "text/plain": [
       "DatePicker(value=None)"
      ]
     },
     "metadata": {},
     "output_type": "display_data"
    }
   ],
   "source": [
    "dpa = widgets.DatePicker() # warning, does not work in the Safari browser\n",
    "\n",
    "display(dpa)"
   ]
  },
  {
   "cell_type": "code",
   "execution_count": 18,
   "metadata": {},
   "outputs": [
    {
     "data": {
      "application/vnd.jupyter.widget-view+json": {
       "model_id": "5c7633afd3f54a3ea60fb0b8185ac1de",
       "version_major": 2,
       "version_minor": 0
      },
      "text/plain": [
       "ColorPicker(value='orange')"
      ]
     },
     "metadata": {},
     "output_type": "display_data"
    }
   ],
   "source": [
    "cpa = widgets.ColorPicker(value='orange') \n",
    "\n",
    "display(cpa)"
   ]
  },
  {
   "cell_type": "markdown",
   "metadata": {},
   "source": [
    "<a id=\"simple_event\"></a>\n",
    "### Handling simple widget events"
   ]
  },
  {
   "cell_type": "markdown",
   "metadata": {},
   "source": [
    "In this section some very basic widget events will be demonstrated, showing some of the ways you can use data from widgets."
   ]
  },
  {
   "cell_type": "markdown",
   "metadata": {},
   "source": [
    "Generally there are two techniques that you can use to gather infirmation from widgets:\n",
    "1. Allow choices to be made freely, but save values when an action is taken (such as a `submit` button is pressed)\n",
    "2. Constantly update values as they are changed"
   ]
  },
  {
   "cell_type": "markdown",
   "metadata": {},
   "source": [
    "#### Record values on submit"
   ]
  },
  {
   "cell_type": "markdown",
   "metadata": {},
   "source": [
    "This shows a simple example of a way to have something happen if you click a button."
   ]
  },
  {
   "cell_type": "code",
   "execution_count": 19,
   "metadata": {},
   "outputs": [
    {
     "data": {
      "application/vnd.jupyter.widget-view+json": {
       "model_id": "c4f670b810864b22a16b53a7b843254a",
       "version_major": 2,
       "version_minor": 0
      },
      "text/plain": [
       "FloatSlider(value=3.0, max=9.0, step=1.0)"
      ]
     },
     "metadata": {},
     "output_type": "display_data"
    },
    {
     "data": {
      "application/vnd.jupyter.widget-view+json": {
       "model_id": "46470c7b05be4277b0d31e86ce374e2e",
       "version_major": 2,
       "version_minor": 0
      },
      "text/plain": [
       "Button(description='Click to submit', style=ButtonStyle(button_color='orange'))"
      ]
     },
     "metadata": {},
     "output_type": "display_data"
    },
    {
     "data": {
      "application/vnd.jupyter.widget-view+json": {
       "model_id": "5185e6e507ab4bb79d9041a7535bc625",
       "version_major": 2,
       "version_minor": 0
      },
      "text/plain": [
       "Output()"
      ]
     },
     "metadata": {},
     "output_type": "display_data"
    }
   ],
   "source": [
    "seva = widgets.FloatSlider(value=3, min=0, max=9, step=1)\n",
    "sevb = widgets.Button(description='Click to submit', style=widgets.ButtonStyle(button_color='orange'))\n",
    "soutwidget = widgets.Output()\n",
    "\n",
    "def run_on_button_clicked(button):\n",
    "    print(\"You clicked: slider: \", str(seva.value))\n",
    "\n",
    "sevb.on_click(run_on_button_clicked)\n",
    "display(seva, sevb, soutwidget)"
   ]
  },
  {
   "cell_type": "markdown",
   "metadata": {},
   "source": [
    "This example is slightly more complex, but works similarly to the example above."
   ]
  },
  {
   "cell_type": "code",
   "execution_count": 20,
   "metadata": {},
   "outputs": [
    {
     "data": {
      "application/vnd.jupyter.widget-view+json": {
       "model_id": "adcd75ed38424b6c8d167ea3ace72f9a",
       "version_major": 2,
       "version_minor": 0
      },
      "text/plain": [
       "Output()"
      ]
     },
     "metadata": {},
     "output_type": "display_data"
    },
    {
     "data": {
      "application/vnd.jupyter.widget-view+json": {
       "model_id": "d3e0d0ac83ed452584a586e733f1c2ee",
       "version_major": 2,
       "version_minor": 0
      },
      "text/plain": [
       "FloatSlider(value=3.0, max=9.0, step=1.0)"
      ]
     },
     "metadata": {},
     "output_type": "display_data"
    },
    {
     "data": {
      "application/vnd.jupyter.widget-view+json": {
       "model_id": "de99efa8998f468eaf6aad8ac75bd5ae",
       "version_major": 2,
       "version_minor": 0
      },
      "text/plain": [
       "ToggleButtons(options=('Cat', 'Dog', 'Hen'), value='Cat')"
      ]
     },
     "metadata": {},
     "output_type": "display_data"
    },
    {
     "data": {
      "application/vnd.jupyter.widget-view+json": {
       "model_id": "58507425406d49af82f5cf70fa38716d",
       "version_major": 2,
       "version_minor": 0
      },
      "text/plain": [
       "Text(value='')"
      ]
     },
     "metadata": {},
     "output_type": "display_data"
    },
    {
     "data": {
      "application/vnd.jupyter.widget-view+json": {
       "model_id": "f6f1a0ef2c5f4e1bade68de1623f616f",
       "version_major": 2,
       "version_minor": 0
      },
      "text/plain": [
       "Button(description='Click to submit', style=ButtonStyle(button_color='orange'))"
      ]
     },
     "metadata": {},
     "output_type": "display_data"
    },
    {
     "data": {
      "application/vnd.jupyter.widget-view+json": {
       "model_id": "004c8ef0eeb54819a989fbcc83103c6f",
       "version_major": 2,
       "version_minor": 0
      },
      "text/plain": [
       "Button(description='Click to clear', style=ButtonStyle(button_color='lightblue'))"
      ]
     },
     "metadata": {},
     "output_type": "display_data"
    },
    {
     "data": {
      "application/vnd.jupyter.widget-view+json": {
       "model_id": "6a4ced1a4dde4a2ba6bebded37ae7844",
       "version_major": 2,
       "version_minor": 0
      },
      "text/plain": [
       "Output(layout=Layout(border='1px solid black'))"
      ]
     },
     "metadata": {},
     "output_type": "display_data"
    }
   ],
   "source": [
    "eva = widgets.FloatSlider(value=3, min=0, max=9, step=1)\n",
    "evb = widgets.ToggleButtons(options=['Cat', 'Dog', 'Hen'])\n",
    "evc = widgets.Text()\n",
    "evd = widgets.Button(description='Click to submit', style=widgets.ButtonStyle(button_color='orange'))\n",
    "eve = widgets.Button(description='Click to clear', style=widgets.ButtonStyle(button_color='lightblue'))\n",
    "\n",
    "outplot = widgets.Output()\n",
    "outwidget = widgets.Output(layout={'border': '1px solid black'})\n",
    "\n",
    "with outplot:\n",
    "    plt.figure(figsize=(2, 2))\n",
    "    plt.scatter((0, 1, 0.5), (0, 0, 1), color = \"red\")\n",
    "    plt.show()\n",
    "\n",
    "def run_on_button_clicked(button):\n",
    "    with outwidget:\n",
    "        outwidget.clear_output(wait=False)\n",
    "        print(\"You clicked:\")\n",
    "        print(\"\\tslider: \", str(eva.value))\n",
    "        print(\"\\ttoggle: \", str(evb.value))\n",
    "        print(\"\\ttext: \", str(evc.value))\n",
    "    with outplot:\n",
    "        outplot.clear_output()\n",
    "        plt.figure(figsize=(2, 2))\n",
    "        plt.scatter((0, 1, 0.5), (0, 0, 1), color = \"blue\")\n",
    "        plt.show()\n",
    "        \n",
    "def clear_out(button):\n",
    "    outwidget.clear_output()\n",
    "    with outplot:\n",
    "        outplot.clear_output()\n",
    "        plt.figure(figsize=(2, 2))\n",
    "        plt.scatter((0, 1, 0.5), (0, 0, 1), color = \"red\")\n",
    "        plt.show()\n",
    "\n",
    "evd.on_click(run_on_button_clicked)\n",
    "eve.on_click(clear_out)\n",
    "\n",
    "\n",
    "display(outplot, eva, evb, evc, evd, eve, outwidget)"
   ]
  },
  {
   "cell_type": "markdown",
   "metadata": {},
   "source": [
    "#### Constantly update values"
   ]
  },
  {
   "cell_type": "markdown",
   "metadata": {},
   "source": [
    "In each of the above examples, nothing happened unless you clicked a button. This is useful for forms and inputs that require some form of error checking before incorporating into your program. However, there is another way to get input that is good for instant feedback.\n",
    "\n",
    "`%matplotlib notebook` is a special function that allows the figure to be updated when notebook values change."
   ]
  },
  {
   "cell_type": "code",
   "execution_count": 21,
   "metadata": {},
   "outputs": [
    {
     "data": {
      "application/javascript": [
       "/* Put everything inside the global mpl namespace */\n",
       "window.mpl = {};\n",
       "\n",
       "\n",
       "mpl.get_websocket_type = function() {\n",
       "    if (typeof(WebSocket) !== 'undefined') {\n",
       "        return WebSocket;\n",
       "    } else if (typeof(MozWebSocket) !== 'undefined') {\n",
       "        return MozWebSocket;\n",
       "    } else {\n",
       "        alert('Your browser does not have WebSocket support. ' +\n",
       "              'Please try Chrome, Safari or Firefox ≥ 6. ' +\n",
       "              'Firefox 4 and 5 are also supported but you ' +\n",
       "              'have to enable WebSockets in about:config.');\n",
       "    };\n",
       "}\n",
       "\n",
       "mpl.figure = function(figure_id, websocket, ondownload, parent_element) {\n",
       "    this.id = figure_id;\n",
       "\n",
       "    this.ws = websocket;\n",
       "\n",
       "    this.supports_binary = (this.ws.binaryType != undefined);\n",
       "\n",
       "    if (!this.supports_binary) {\n",
       "        var warnings = document.getElementById(\"mpl-warnings\");\n",
       "        if (warnings) {\n",
       "            warnings.style.display = 'block';\n",
       "            warnings.textContent = (\n",
       "                \"This browser does not support binary websocket messages. \" +\n",
       "                    \"Performance may be slow.\");\n",
       "        }\n",
       "    }\n",
       "\n",
       "    this.imageObj = new Image();\n",
       "\n",
       "    this.context = undefined;\n",
       "    this.message = undefined;\n",
       "    this.canvas = undefined;\n",
       "    this.rubberband_canvas = undefined;\n",
       "    this.rubberband_context = undefined;\n",
       "    this.format_dropdown = undefined;\n",
       "\n",
       "    this.image_mode = 'full';\n",
       "\n",
       "    this.root = $('<div/>');\n",
       "    this._root_extra_style(this.root)\n",
       "    this.root.attr('style', 'display: inline-block');\n",
       "\n",
       "    $(parent_element).append(this.root);\n",
       "\n",
       "    this._init_header(this);\n",
       "    this._init_canvas(this);\n",
       "    this._init_toolbar(this);\n",
       "\n",
       "    var fig = this;\n",
       "\n",
       "    this.waiting = false;\n",
       "\n",
       "    this.ws.onopen =  function () {\n",
       "            fig.send_message(\"supports_binary\", {value: fig.supports_binary});\n",
       "            fig.send_message(\"send_image_mode\", {});\n",
       "            if (mpl.ratio != 1) {\n",
       "                fig.send_message(\"set_dpi_ratio\", {'dpi_ratio': mpl.ratio});\n",
       "            }\n",
       "            fig.send_message(\"refresh\", {});\n",
       "        }\n",
       "\n",
       "    this.imageObj.onload = function() {\n",
       "            if (fig.image_mode == 'full') {\n",
       "                // Full images could contain transparency (where diff images\n",
       "                // almost always do), so we need to clear the canvas so that\n",
       "                // there is no ghosting.\n",
       "                fig.context.clearRect(0, 0, fig.canvas.width, fig.canvas.height);\n",
       "            }\n",
       "            fig.context.drawImage(fig.imageObj, 0, 0);\n",
       "        };\n",
       "\n",
       "    this.imageObj.onunload = function() {\n",
       "        fig.ws.close();\n",
       "    }\n",
       "\n",
       "    this.ws.onmessage = this._make_on_message_function(this);\n",
       "\n",
       "    this.ondownload = ondownload;\n",
       "}\n",
       "\n",
       "mpl.figure.prototype._init_header = function() {\n",
       "    var titlebar = $(\n",
       "        '<div class=\"ui-dialog-titlebar ui-widget-header ui-corner-all ' +\n",
       "        'ui-helper-clearfix\"/>');\n",
       "    var titletext = $(\n",
       "        '<div class=\"ui-dialog-title\" style=\"width: 100%; ' +\n",
       "        'text-align: center; padding: 3px;\"/>');\n",
       "    titlebar.append(titletext)\n",
       "    this.root.append(titlebar);\n",
       "    this.header = titletext[0];\n",
       "}\n",
       "\n",
       "\n",
       "\n",
       "mpl.figure.prototype._canvas_extra_style = function(canvas_div) {\n",
       "\n",
       "}\n",
       "\n",
       "\n",
       "mpl.figure.prototype._root_extra_style = function(canvas_div) {\n",
       "\n",
       "}\n",
       "\n",
       "mpl.figure.prototype._init_canvas = function() {\n",
       "    var fig = this;\n",
       "\n",
       "    var canvas_div = $('<div/>');\n",
       "\n",
       "    canvas_div.attr('style', 'position: relative; clear: both; outline: 0');\n",
       "\n",
       "    function canvas_keyboard_event(event) {\n",
       "        return fig.key_event(event, event['data']);\n",
       "    }\n",
       "\n",
       "    canvas_div.keydown('key_press', canvas_keyboard_event);\n",
       "    canvas_div.keyup('key_release', canvas_keyboard_event);\n",
       "    this.canvas_div = canvas_div\n",
       "    this._canvas_extra_style(canvas_div)\n",
       "    this.root.append(canvas_div);\n",
       "\n",
       "    var canvas = $('<canvas/>');\n",
       "    canvas.addClass('mpl-canvas');\n",
       "    canvas.attr('style', \"left: 0; top: 0; z-index: 0; outline: 0\")\n",
       "\n",
       "    this.canvas = canvas[0];\n",
       "    this.context = canvas[0].getContext(\"2d\");\n",
       "\n",
       "    var backingStore = this.context.backingStorePixelRatio ||\n",
       "\tthis.context.webkitBackingStorePixelRatio ||\n",
       "\tthis.context.mozBackingStorePixelRatio ||\n",
       "\tthis.context.msBackingStorePixelRatio ||\n",
       "\tthis.context.oBackingStorePixelRatio ||\n",
       "\tthis.context.backingStorePixelRatio || 1;\n",
       "\n",
       "    mpl.ratio = (window.devicePixelRatio || 1) / backingStore;\n",
       "\n",
       "    var rubberband = $('<canvas/>');\n",
       "    rubberband.attr('style', \"position: absolute; left: 0; top: 0; z-index: 1;\")\n",
       "\n",
       "    var pass_mouse_events = true;\n",
       "\n",
       "    canvas_div.resizable({\n",
       "        start: function(event, ui) {\n",
       "            pass_mouse_events = false;\n",
       "        },\n",
       "        resize: function(event, ui) {\n",
       "            fig.request_resize(ui.size.width, ui.size.height);\n",
       "        },\n",
       "        stop: function(event, ui) {\n",
       "            pass_mouse_events = true;\n",
       "            fig.request_resize(ui.size.width, ui.size.height);\n",
       "        },\n",
       "    });\n",
       "\n",
       "    function mouse_event_fn(event) {\n",
       "        if (pass_mouse_events)\n",
       "            return fig.mouse_event(event, event['data']);\n",
       "    }\n",
       "\n",
       "    rubberband.mousedown('button_press', mouse_event_fn);\n",
       "    rubberband.mouseup('button_release', mouse_event_fn);\n",
       "    // Throttle sequential mouse events to 1 every 20ms.\n",
       "    rubberband.mousemove('motion_notify', mouse_event_fn);\n",
       "\n",
       "    rubberband.mouseenter('figure_enter', mouse_event_fn);\n",
       "    rubberband.mouseleave('figure_leave', mouse_event_fn);\n",
       "\n",
       "    canvas_div.on(\"wheel\", function (event) {\n",
       "        event = event.originalEvent;\n",
       "        event['data'] = 'scroll'\n",
       "        if (event.deltaY < 0) {\n",
       "            event.step = 1;\n",
       "        } else {\n",
       "            event.step = -1;\n",
       "        }\n",
       "        mouse_event_fn(event);\n",
       "    });\n",
       "\n",
       "    canvas_div.append(canvas);\n",
       "    canvas_div.append(rubberband);\n",
       "\n",
       "    this.rubberband = rubberband;\n",
       "    this.rubberband_canvas = rubberband[0];\n",
       "    this.rubberband_context = rubberband[0].getContext(\"2d\");\n",
       "    this.rubberband_context.strokeStyle = \"#000000\";\n",
       "\n",
       "    this._resize_canvas = function(width, height) {\n",
       "        // Keep the size of the canvas, canvas container, and rubber band\n",
       "        // canvas in synch.\n",
       "        canvas_div.css('width', width)\n",
       "        canvas_div.css('height', height)\n",
       "\n",
       "        canvas.attr('width', width * mpl.ratio);\n",
       "        canvas.attr('height', height * mpl.ratio);\n",
       "        canvas.attr('style', 'width: ' + width + 'px; height: ' + height + 'px;');\n",
       "\n",
       "        rubberband.attr('width', width);\n",
       "        rubberband.attr('height', height);\n",
       "    }\n",
       "\n",
       "    // Set the figure to an initial 600x600px, this will subsequently be updated\n",
       "    // upon first draw.\n",
       "    this._resize_canvas(600, 600);\n",
       "\n",
       "    // Disable right mouse context menu.\n",
       "    $(this.rubberband_canvas).bind(\"contextmenu\",function(e){\n",
       "        return false;\n",
       "    });\n",
       "\n",
       "    function set_focus () {\n",
       "        canvas.focus();\n",
       "        canvas_div.focus();\n",
       "    }\n",
       "\n",
       "    window.setTimeout(set_focus, 100);\n",
       "}\n",
       "\n",
       "mpl.figure.prototype._init_toolbar = function() {\n",
       "    var fig = this;\n",
       "\n",
       "    var nav_element = $('<div/>');\n",
       "    nav_element.attr('style', 'width: 100%');\n",
       "    this.root.append(nav_element);\n",
       "\n",
       "    // Define a callback function for later on.\n",
       "    function toolbar_event(event) {\n",
       "        return fig.toolbar_button_onclick(event['data']);\n",
       "    }\n",
       "    function toolbar_mouse_event(event) {\n",
       "        return fig.toolbar_button_onmouseover(event['data']);\n",
       "    }\n",
       "\n",
       "    for(var toolbar_ind in mpl.toolbar_items) {\n",
       "        var name = mpl.toolbar_items[toolbar_ind][0];\n",
       "        var tooltip = mpl.toolbar_items[toolbar_ind][1];\n",
       "        var image = mpl.toolbar_items[toolbar_ind][2];\n",
       "        var method_name = mpl.toolbar_items[toolbar_ind][3];\n",
       "\n",
       "        if (!name) {\n",
       "            // put a spacer in here.\n",
       "            continue;\n",
       "        }\n",
       "        var button = $('<button/>');\n",
       "        button.addClass('ui-button ui-widget ui-state-default ui-corner-all ' +\n",
       "                        'ui-button-icon-only');\n",
       "        button.attr('role', 'button');\n",
       "        button.attr('aria-disabled', 'false');\n",
       "        button.click(method_name, toolbar_event);\n",
       "        button.mouseover(tooltip, toolbar_mouse_event);\n",
       "\n",
       "        var icon_img = $('<span/>');\n",
       "        icon_img.addClass('ui-button-icon-primary ui-icon');\n",
       "        icon_img.addClass(image);\n",
       "        icon_img.addClass('ui-corner-all');\n",
       "\n",
       "        var tooltip_span = $('<span/>');\n",
       "        tooltip_span.addClass('ui-button-text');\n",
       "        tooltip_span.html(tooltip);\n",
       "\n",
       "        button.append(icon_img);\n",
       "        button.append(tooltip_span);\n",
       "\n",
       "        nav_element.append(button);\n",
       "    }\n",
       "\n",
       "    var fmt_picker_span = $('<span/>');\n",
       "\n",
       "    var fmt_picker = $('<select/>');\n",
       "    fmt_picker.addClass('mpl-toolbar-option ui-widget ui-widget-content');\n",
       "    fmt_picker_span.append(fmt_picker);\n",
       "    nav_element.append(fmt_picker_span);\n",
       "    this.format_dropdown = fmt_picker[0];\n",
       "\n",
       "    for (var ind in mpl.extensions) {\n",
       "        var fmt = mpl.extensions[ind];\n",
       "        var option = $(\n",
       "            '<option/>', {selected: fmt === mpl.default_extension}).html(fmt);\n",
       "        fmt_picker.append(option);\n",
       "    }\n",
       "\n",
       "    // Add hover states to the ui-buttons\n",
       "    $( \".ui-button\" ).hover(\n",
       "        function() { $(this).addClass(\"ui-state-hover\");},\n",
       "        function() { $(this).removeClass(\"ui-state-hover\");}\n",
       "    );\n",
       "\n",
       "    var status_bar = $('<span class=\"mpl-message\"/>');\n",
       "    nav_element.append(status_bar);\n",
       "    this.message = status_bar[0];\n",
       "}\n",
       "\n",
       "mpl.figure.prototype.request_resize = function(x_pixels, y_pixels) {\n",
       "    // Request matplotlib to resize the figure. Matplotlib will then trigger a resize in the client,\n",
       "    // which will in turn request a refresh of the image.\n",
       "    this.send_message('resize', {'width': x_pixels, 'height': y_pixels});\n",
       "}\n",
       "\n",
       "mpl.figure.prototype.send_message = function(type, properties) {\n",
       "    properties['type'] = type;\n",
       "    properties['figure_id'] = this.id;\n",
       "    this.ws.send(JSON.stringify(properties));\n",
       "}\n",
       "\n",
       "mpl.figure.prototype.send_draw_message = function() {\n",
       "    if (!this.waiting) {\n",
       "        this.waiting = true;\n",
       "        this.ws.send(JSON.stringify({type: \"draw\", figure_id: this.id}));\n",
       "    }\n",
       "}\n",
       "\n",
       "\n",
       "mpl.figure.prototype.handle_save = function(fig, msg) {\n",
       "    var format_dropdown = fig.format_dropdown;\n",
       "    var format = format_dropdown.options[format_dropdown.selectedIndex].value;\n",
       "    fig.ondownload(fig, format);\n",
       "}\n",
       "\n",
       "\n",
       "mpl.figure.prototype.handle_resize = function(fig, msg) {\n",
       "    var size = msg['size'];\n",
       "    if (size[0] != fig.canvas.width || size[1] != fig.canvas.height) {\n",
       "        fig._resize_canvas(size[0], size[1]);\n",
       "        fig.send_message(\"refresh\", {});\n",
       "    };\n",
       "}\n",
       "\n",
       "mpl.figure.prototype.handle_rubberband = function(fig, msg) {\n",
       "    var x0 = msg['x0'] / mpl.ratio;\n",
       "    var y0 = (fig.canvas.height - msg['y0']) / mpl.ratio;\n",
       "    var x1 = msg['x1'] / mpl.ratio;\n",
       "    var y1 = (fig.canvas.height - msg['y1']) / mpl.ratio;\n",
       "    x0 = Math.floor(x0) + 0.5;\n",
       "    y0 = Math.floor(y0) + 0.5;\n",
       "    x1 = Math.floor(x1) + 0.5;\n",
       "    y1 = Math.floor(y1) + 0.5;\n",
       "    var min_x = Math.min(x0, x1);\n",
       "    var min_y = Math.min(y0, y1);\n",
       "    var width = Math.abs(x1 - x0);\n",
       "    var height = Math.abs(y1 - y0);\n",
       "\n",
       "    fig.rubberband_context.clearRect(\n",
       "        0, 0, fig.canvas.width / mpl.ratio, fig.canvas.height / mpl.ratio);\n",
       "\n",
       "    fig.rubberband_context.strokeRect(min_x, min_y, width, height);\n",
       "}\n",
       "\n",
       "mpl.figure.prototype.handle_figure_label = function(fig, msg) {\n",
       "    // Updates the figure title.\n",
       "    fig.header.textContent = msg['label'];\n",
       "}\n",
       "\n",
       "mpl.figure.prototype.handle_cursor = function(fig, msg) {\n",
       "    var cursor = msg['cursor'];\n",
       "    switch(cursor)\n",
       "    {\n",
       "    case 0:\n",
       "        cursor = 'pointer';\n",
       "        break;\n",
       "    case 1:\n",
       "        cursor = 'default';\n",
       "        break;\n",
       "    case 2:\n",
       "        cursor = 'crosshair';\n",
       "        break;\n",
       "    case 3:\n",
       "        cursor = 'move';\n",
       "        break;\n",
       "    }\n",
       "    fig.rubberband_canvas.style.cursor = cursor;\n",
       "}\n",
       "\n",
       "mpl.figure.prototype.handle_message = function(fig, msg) {\n",
       "    fig.message.textContent = msg['message'];\n",
       "}\n",
       "\n",
       "mpl.figure.prototype.handle_draw = function(fig, msg) {\n",
       "    // Request the server to send over a new figure.\n",
       "    fig.send_draw_message();\n",
       "}\n",
       "\n",
       "mpl.figure.prototype.handle_image_mode = function(fig, msg) {\n",
       "    fig.image_mode = msg['mode'];\n",
       "}\n",
       "\n",
       "mpl.figure.prototype.updated_canvas_event = function() {\n",
       "    // Called whenever the canvas gets updated.\n",
       "    this.send_message(\"ack\", {});\n",
       "}\n",
       "\n",
       "// A function to construct a web socket function for onmessage handling.\n",
       "// Called in the figure constructor.\n",
       "mpl.figure.prototype._make_on_message_function = function(fig) {\n",
       "    return function socket_on_message(evt) {\n",
       "        if (evt.data instanceof Blob) {\n",
       "            /* FIXME: We get \"Resource interpreted as Image but\n",
       "             * transferred with MIME type text/plain:\" errors on\n",
       "             * Chrome.  But how to set the MIME type?  It doesn't seem\n",
       "             * to be part of the websocket stream */\n",
       "            evt.data.type = \"image/png\";\n",
       "\n",
       "            /* Free the memory for the previous frames */\n",
       "            if (fig.imageObj.src) {\n",
       "                (window.URL || window.webkitURL).revokeObjectURL(\n",
       "                    fig.imageObj.src);\n",
       "            }\n",
       "\n",
       "            fig.imageObj.src = (window.URL || window.webkitURL).createObjectURL(\n",
       "                evt.data);\n",
       "            fig.updated_canvas_event();\n",
       "            fig.waiting = false;\n",
       "            return;\n",
       "        }\n",
       "        else if (typeof evt.data === 'string' && evt.data.slice(0, 21) == \"data:image/png;base64\") {\n",
       "            fig.imageObj.src = evt.data;\n",
       "            fig.updated_canvas_event();\n",
       "            fig.waiting = false;\n",
       "            return;\n",
       "        }\n",
       "\n",
       "        var msg = JSON.parse(evt.data);\n",
       "        var msg_type = msg['type'];\n",
       "\n",
       "        // Call the  \"handle_{type}\" callback, which takes\n",
       "        // the figure and JSON message as its only arguments.\n",
       "        try {\n",
       "            var callback = fig[\"handle_\" + msg_type];\n",
       "        } catch (e) {\n",
       "            console.log(\"No handler for the '\" + msg_type + \"' message type: \", msg);\n",
       "            return;\n",
       "        }\n",
       "\n",
       "        if (callback) {\n",
       "            try {\n",
       "                // console.log(\"Handling '\" + msg_type + \"' message: \", msg);\n",
       "                callback(fig, msg);\n",
       "            } catch (e) {\n",
       "                console.log(\"Exception inside the 'handler_\" + msg_type + \"' callback:\", e, e.stack, msg);\n",
       "            }\n",
       "        }\n",
       "    };\n",
       "}\n",
       "\n",
       "// from http://stackoverflow.com/questions/1114465/getting-mouse-location-in-canvas\n",
       "mpl.findpos = function(e) {\n",
       "    //this section is from http://www.quirksmode.org/js/events_properties.html\n",
       "    var targ;\n",
       "    if (!e)\n",
       "        e = window.event;\n",
       "    if (e.target)\n",
       "        targ = e.target;\n",
       "    else if (e.srcElement)\n",
       "        targ = e.srcElement;\n",
       "    if (targ.nodeType == 3) // defeat Safari bug\n",
       "        targ = targ.parentNode;\n",
       "\n",
       "    // jQuery normalizes the pageX and pageY\n",
       "    // pageX,Y are the mouse positions relative to the document\n",
       "    // offset() returns the position of the element relative to the document\n",
       "    var x = e.pageX - $(targ).offset().left;\n",
       "    var y = e.pageY - $(targ).offset().top;\n",
       "\n",
       "    return {\"x\": x, \"y\": y};\n",
       "};\n",
       "\n",
       "/*\n",
       " * return a copy of an object with only non-object keys\n",
       " * we need this to avoid circular references\n",
       " * http://stackoverflow.com/a/24161582/3208463\n",
       " */\n",
       "function simpleKeys (original) {\n",
       "  return Object.keys(original).reduce(function (obj, key) {\n",
       "    if (typeof original[key] !== 'object')\n",
       "        obj[key] = original[key]\n",
       "    return obj;\n",
       "  }, {});\n",
       "}\n",
       "\n",
       "mpl.figure.prototype.mouse_event = function(event, name) {\n",
       "    var canvas_pos = mpl.findpos(event)\n",
       "\n",
       "    if (name === 'button_press')\n",
       "    {\n",
       "        this.canvas.focus();\n",
       "        this.canvas_div.focus();\n",
       "    }\n",
       "\n",
       "    var x = canvas_pos.x * mpl.ratio;\n",
       "    var y = canvas_pos.y * mpl.ratio;\n",
       "\n",
       "    this.send_message(name, {x: x, y: y, button: event.button,\n",
       "                             step: event.step,\n",
       "                             guiEvent: simpleKeys(event)});\n",
       "\n",
       "    /* This prevents the web browser from automatically changing to\n",
       "     * the text insertion cursor when the button is pressed.  We want\n",
       "     * to control all of the cursor setting manually through the\n",
       "     * 'cursor' event from matplotlib */\n",
       "    event.preventDefault();\n",
       "    return false;\n",
       "}\n",
       "\n",
       "mpl.figure.prototype._key_event_extra = function(event, name) {\n",
       "    // Handle any extra behaviour associated with a key event\n",
       "}\n",
       "\n",
       "mpl.figure.prototype.key_event = function(event, name) {\n",
       "\n",
       "    // Prevent repeat events\n",
       "    if (name == 'key_press')\n",
       "    {\n",
       "        if (event.which === this._key)\n",
       "            return;\n",
       "        else\n",
       "            this._key = event.which;\n",
       "    }\n",
       "    if (name == 'key_release')\n",
       "        this._key = null;\n",
       "\n",
       "    var value = '';\n",
       "    if (event.ctrlKey && event.which != 17)\n",
       "        value += \"ctrl+\";\n",
       "    if (event.altKey && event.which != 18)\n",
       "        value += \"alt+\";\n",
       "    if (event.shiftKey && event.which != 16)\n",
       "        value += \"shift+\";\n",
       "\n",
       "    value += 'k';\n",
       "    value += event.which.toString();\n",
       "\n",
       "    this._key_event_extra(event, name);\n",
       "\n",
       "    this.send_message(name, {key: value,\n",
       "                             guiEvent: simpleKeys(event)});\n",
       "    return false;\n",
       "}\n",
       "\n",
       "mpl.figure.prototype.toolbar_button_onclick = function(name) {\n",
       "    if (name == 'download') {\n",
       "        this.handle_save(this, null);\n",
       "    } else {\n",
       "        this.send_message(\"toolbar_button\", {name: name});\n",
       "    }\n",
       "};\n",
       "\n",
       "mpl.figure.prototype.toolbar_button_onmouseover = function(tooltip) {\n",
       "    this.message.textContent = tooltip;\n",
       "};\n",
       "mpl.toolbar_items = [[\"Home\", \"Reset original view\", \"fa fa-home icon-home\", \"home\"], [\"Back\", \"Back to previous view\", \"fa fa-arrow-left icon-arrow-left\", \"back\"], [\"Forward\", \"Forward to next view\", \"fa fa-arrow-right icon-arrow-right\", \"forward\"], [\"\", \"\", \"\", \"\"], [\"Pan\", \"Pan axes with left mouse, zoom with right\", \"fa fa-arrows icon-move\", \"pan\"], [\"Zoom\", \"Zoom to rectangle\", \"fa fa-square-o icon-check-empty\", \"zoom\"], [\"\", \"\", \"\", \"\"], [\"Download\", \"Download plot\", \"fa fa-floppy-o icon-save\", \"download\"]];\n",
       "\n",
       "mpl.extensions = [\"eps\", \"jpeg\", \"pdf\", \"png\", \"ps\", \"raw\", \"svg\", \"tif\"];\n",
       "\n",
       "mpl.default_extension = \"png\";var comm_websocket_adapter = function(comm) {\n",
       "    // Create a \"websocket\"-like object which calls the given IPython comm\n",
       "    // object with the appropriate methods. Currently this is a non binary\n",
       "    // socket, so there is still some room for performance tuning.\n",
       "    var ws = {};\n",
       "\n",
       "    ws.close = function() {\n",
       "        comm.close()\n",
       "    };\n",
       "    ws.send = function(m) {\n",
       "        //console.log('sending', m);\n",
       "        comm.send(m);\n",
       "    };\n",
       "    // Register the callback with on_msg.\n",
       "    comm.on_msg(function(msg) {\n",
       "        //console.log('receiving', msg['content']['data'], msg);\n",
       "        // Pass the mpl event to the overridden (by mpl) onmessage function.\n",
       "        ws.onmessage(msg['content']['data'])\n",
       "    });\n",
       "    return ws;\n",
       "}\n",
       "\n",
       "mpl.mpl_figure_comm = function(comm, msg) {\n",
       "    // This is the function which gets called when the mpl process\n",
       "    // starts-up an IPython Comm through the \"matplotlib\" channel.\n",
       "\n",
       "    var id = msg.content.data.id;\n",
       "    // Get hold of the div created by the display call when the Comm\n",
       "    // socket was opened in Python.\n",
       "    var element = $(\"#\" + id);\n",
       "    var ws_proxy = comm_websocket_adapter(comm)\n",
       "\n",
       "    function ondownload(figure, format) {\n",
       "        window.open(figure.imageObj.src);\n",
       "    }\n",
       "\n",
       "    var fig = new mpl.figure(id, ws_proxy,\n",
       "                           ondownload,\n",
       "                           element.get(0));\n",
       "\n",
       "    // Call onopen now - mpl needs it, as it is assuming we've passed it a real\n",
       "    // web socket which is closed, not our websocket->open comm proxy.\n",
       "    ws_proxy.onopen();\n",
       "\n",
       "    fig.parent_element = element.get(0);\n",
       "    fig.cell_info = mpl.find_output_cell(\"<div id='\" + id + \"'></div>\");\n",
       "    if (!fig.cell_info) {\n",
       "        console.error(\"Failed to find cell for figure\", id, fig);\n",
       "        return;\n",
       "    }\n",
       "\n",
       "    var output_index = fig.cell_info[2]\n",
       "    var cell = fig.cell_info[0];\n",
       "\n",
       "};\n",
       "\n",
       "mpl.figure.prototype.handle_close = function(fig, msg) {\n",
       "    var width = fig.canvas.width/mpl.ratio\n",
       "    fig.root.unbind('remove')\n",
       "\n",
       "    // Update the output cell to use the data from the current canvas.\n",
       "    fig.push_to_output();\n",
       "    var dataURL = fig.canvas.toDataURL();\n",
       "    // Re-enable the keyboard manager in IPython - without this line, in FF,\n",
       "    // the notebook keyboard shortcuts fail.\n",
       "    IPython.keyboard_manager.enable()\n",
       "    $(fig.parent_element).html('<img src=\"' + dataURL + '\" width=\"' + width + '\">');\n",
       "    fig.close_ws(fig, msg);\n",
       "}\n",
       "\n",
       "mpl.figure.prototype.close_ws = function(fig, msg){\n",
       "    fig.send_message('closing', msg);\n",
       "    // fig.ws.close()\n",
       "}\n",
       "\n",
       "mpl.figure.prototype.push_to_output = function(remove_interactive) {\n",
       "    // Turn the data on the canvas into data in the output cell.\n",
       "    var width = this.canvas.width/mpl.ratio\n",
       "    var dataURL = this.canvas.toDataURL();\n",
       "    this.cell_info[1]['text/html'] = '<img src=\"' + dataURL + '\" width=\"' + width + '\">';\n",
       "}\n",
       "\n",
       "mpl.figure.prototype.updated_canvas_event = function() {\n",
       "    // Tell IPython that the notebook contents must change.\n",
       "    IPython.notebook.set_dirty(true);\n",
       "    this.send_message(\"ack\", {});\n",
       "    var fig = this;\n",
       "    // Wait a second, then push the new image to the DOM so\n",
       "    // that it is saved nicely (might be nice to debounce this).\n",
       "    setTimeout(function () { fig.push_to_output() }, 1000);\n",
       "}\n",
       "\n",
       "mpl.figure.prototype._init_toolbar = function() {\n",
       "    var fig = this;\n",
       "\n",
       "    var nav_element = $('<div/>');\n",
       "    nav_element.attr('style', 'width: 100%');\n",
       "    this.root.append(nav_element);\n",
       "\n",
       "    // Define a callback function for later on.\n",
       "    function toolbar_event(event) {\n",
       "        return fig.toolbar_button_onclick(event['data']);\n",
       "    }\n",
       "    function toolbar_mouse_event(event) {\n",
       "        return fig.toolbar_button_onmouseover(event['data']);\n",
       "    }\n",
       "\n",
       "    for(var toolbar_ind in mpl.toolbar_items){\n",
       "        var name = mpl.toolbar_items[toolbar_ind][0];\n",
       "        var tooltip = mpl.toolbar_items[toolbar_ind][1];\n",
       "        var image = mpl.toolbar_items[toolbar_ind][2];\n",
       "        var method_name = mpl.toolbar_items[toolbar_ind][3];\n",
       "\n",
       "        if (!name) { continue; };\n",
       "\n",
       "        var button = $('<button class=\"btn btn-default\" href=\"#\" title=\"' + name + '\"><i class=\"fa ' + image + ' fa-lg\"></i></button>');\n",
       "        button.click(method_name, toolbar_event);\n",
       "        button.mouseover(tooltip, toolbar_mouse_event);\n",
       "        nav_element.append(button);\n",
       "    }\n",
       "\n",
       "    // Add the status bar.\n",
       "    var status_bar = $('<span class=\"mpl-message\" style=\"text-align:right; float: right;\"/>');\n",
       "    nav_element.append(status_bar);\n",
       "    this.message = status_bar[0];\n",
       "\n",
       "    // Add the close button to the window.\n",
       "    var buttongrp = $('<div class=\"btn-group inline pull-right\"></div>');\n",
       "    var button = $('<button class=\"btn btn-mini btn-primary\" href=\"#\" title=\"Stop Interaction\"><i class=\"fa fa-power-off icon-remove icon-large\"></i></button>');\n",
       "    button.click(function (evt) { fig.handle_close(fig, {}); } );\n",
       "    button.mouseover('Stop Interaction', toolbar_mouse_event);\n",
       "    buttongrp.append(button);\n",
       "    var titlebar = this.root.find($('.ui-dialog-titlebar'));\n",
       "    titlebar.prepend(buttongrp);\n",
       "}\n",
       "\n",
       "mpl.figure.prototype._root_extra_style = function(el){\n",
       "    var fig = this\n",
       "    el.on(\"remove\", function(){\n",
       "\tfig.close_ws(fig, {});\n",
       "    });\n",
       "}\n",
       "\n",
       "mpl.figure.prototype._canvas_extra_style = function(el){\n",
       "    // this is important to make the div 'focusable\n",
       "    el.attr('tabindex', 0)\n",
       "    // reach out to IPython and tell the keyboard manager to turn it's self\n",
       "    // off when our div gets focus\n",
       "\n",
       "    // location in version 3\n",
       "    if (IPython.notebook.keyboard_manager) {\n",
       "        IPython.notebook.keyboard_manager.register_events(el);\n",
       "    }\n",
       "    else {\n",
       "        // location in version 2\n",
       "        IPython.keyboard_manager.register_events(el);\n",
       "    }\n",
       "\n",
       "}\n",
       "\n",
       "mpl.figure.prototype._key_event_extra = function(event, name) {\n",
       "    var manager = IPython.notebook.keyboard_manager;\n",
       "    if (!manager)\n",
       "        manager = IPython.keyboard_manager;\n",
       "\n",
       "    // Check for shift+enter\n",
       "    if (event.shiftKey && event.which == 13) {\n",
       "        this.canvas_div.blur();\n",
       "        // select the cell after this one\n",
       "        var index = IPython.notebook.find_cell_index(this.cell_info[0]);\n",
       "        IPython.notebook.select(index + 1);\n",
       "    }\n",
       "}\n",
       "\n",
       "mpl.figure.prototype.handle_save = function(fig, msg) {\n",
       "    fig.ondownload(fig, null);\n",
       "}\n",
       "\n",
       "\n",
       "mpl.find_output_cell = function(html_output) {\n",
       "    // Return the cell and output element which can be found *uniquely* in the notebook.\n",
       "    // Note - this is a bit hacky, but it is done because the \"notebook_saving.Notebook\"\n",
       "    // IPython event is triggered only after the cells have been serialised, which for\n",
       "    // our purposes (turning an active figure into a static one), is too late.\n",
       "    var cells = IPython.notebook.get_cells();\n",
       "    var ncells = cells.length;\n",
       "    for (var i=0; i<ncells; i++) {\n",
       "        var cell = cells[i];\n",
       "        if (cell.cell_type === 'code'){\n",
       "            for (var j=0; j<cell.output_area.outputs.length; j++) {\n",
       "                var data = cell.output_area.outputs[j];\n",
       "                if (data.data) {\n",
       "                    // IPython >= 3 moved mimebundle to data attribute of output\n",
       "                    data = data.data;\n",
       "                }\n",
       "                if (data['text/html'] == html_output) {\n",
       "                    return [cell, data, j];\n",
       "                }\n",
       "            }\n",
       "        }\n",
       "    }\n",
       "}\n",
       "\n",
       "// Register the function which deals with the matplotlib target/channel.\n",
       "// The kernel may be null if the page has been refreshed.\n",
       "if (IPython.notebook.kernel != null) {\n",
       "    IPython.notebook.kernel.comm_manager.register_target('matplotlib', mpl.mpl_figure_comm);\n",
       "}\n"
      ],
      "text/plain": [
       "<IPython.core.display.Javascript object>"
      ]
     },
     "metadata": {},
     "output_type": "display_data"
    },
    {
     "data": {
      "text/html": [
       "<img src=\"data:image/png;base64,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\" width=\"200\">"
      ],
      "text/plain": [
       "<IPython.core.display.HTML object>"
      ]
     },
     "metadata": {},
     "output_type": "display_data"
    },
    {
     "data": {
      "application/vnd.jupyter.widget-view+json": {
       "model_id": "011aa8175cda46bd8b0a9554f9ec3466",
       "version_major": 2,
       "version_minor": 0
      },
      "text/plain": [
       "FloatSlider(value=0.0, description='R', max=1.0)"
      ]
     },
     "metadata": {},
     "output_type": "display_data"
    },
    {
     "data": {
      "application/vnd.jupyter.widget-view+json": {
       "model_id": "b4970432907747c0a1af6f64910bc20b",
       "version_major": 2,
       "version_minor": 0
      },
      "text/plain": [
       "FloatSlider(value=0.0, description='G', max=1.0)"
      ]
     },
     "metadata": {},
     "output_type": "display_data"
    },
    {
     "data": {
      "application/vnd.jupyter.widget-view+json": {
       "model_id": "3da04db797f24414bde24d5419573529",
       "version_major": 2,
       "version_minor": 0
      },
      "text/plain": [
       "FloatSlider(value=0.0, description='B', max=1.0)"
      ]
     },
     "metadata": {},
     "output_type": "display_data"
    }
   ],
   "source": [
    "%matplotlib notebook\n",
    "\n",
    "rslid = widgets.FloatSlider(value=0, min=0, max=1, description=\"R\")\n",
    "gslid = widgets.FloatSlider(value=0, min=0, max=1, description=\"G\")\n",
    "bslid = widgets.FloatSlider(value=0, min=0, max=1, description=\"B\")\n",
    "\n",
    "\n",
    "fig = plt.figure(figsize=(2, 2))\n",
    "ax = fig.add_subplot(1,1,1)\n",
    "ax.scatter((0, 1, 0.5), (0, 0, 1), color = [[1, 1, 1]])\n",
    "plt.tight_layout()\n",
    "plt.show()\n",
    "    \n",
    "def slider_change(slider):\n",
    "    ax.clear()\n",
    "    ax.scatter((0, 1, 0.5), (0, 0, 1), color = [[rslid.value, gslid.value, bslid.value]])\n",
    "    plt.show()\n",
    "    \n",
    "rslid.observe(slider_change, names='value')\n",
    "gslid.observe(slider_change, names='value')\n",
    "bslid.observe(slider_change, names='value')\n",
    "\n",
    "display(rslid, gslid, bslid)"
   ]
  },
  {
   "cell_type": "markdown",
   "metadata": {},
   "source": [
    "<a id=\"folium\"></a>\n",
    "### Using Widgets with Folium Maps"
   ]
  },
  {
   "cell_type": "markdown",
   "metadata": {},
   "source": [
    "The last example is a quick demonstration of using widgets to set zoom levels for a pair of maps."
   ]
  },
  {
   "cell_type": "code",
   "execution_count": 22,
   "metadata": {},
   "outputs": [],
   "source": [
    "import folium\n",
    "import branca"
   ]
  },
  {
   "cell_type": "code",
   "execution_count": 23,
   "metadata": {},
   "outputs": [],
   "source": [
    "f = branca.element.Figure()\n",
    "\n",
    "d1 = f.add_subplot(1, 2, 1)\n",
    "d2 = f.add_subplot(1, 2, 2)\n",
    "\n",
    "wc = folium.Map([0, 0], tiles='stamenwatercolor', zoom_start=1, max_bounds=True)\n",
    "osm = folium.Map([0, 0], tiles='OpenStreetMap', zoom_start=1, max_bounds=True)\n",
    "wc.fit_bounds([[39.881832, -89.623177], [42.881832, -85.623177]])\n",
    "osm.fit_bounds([[39.881832, -89.623177], [42.881832, -85.623177]])\n",
    "\n",
    "d1.add_child(wc)\n",
    "d2.add_child(osm);"
   ]
  },
  {
   "cell_type": "code",
   "execution_count": 24,
   "metadata": {},
   "outputs": [
    {
     "data": {
      "application/vnd.jupyter.widget-view+json": {
       "model_id": "30eba2b603cb4a899278486c0ca1f815",
       "version_major": 2,
       "version_minor": 0
      },
      "text/plain": [
       "Output()"
      ]
     },
     "metadata": {},
     "output_type": "display_data"
    },
    {
     "data": {
      "application/vnd.jupyter.widget-view+json": {
       "model_id": "0deea1684ea94a2ab9d0124446687611",
       "version_major": 2,
       "version_minor": 0
      },
      "text/plain": [
       "HBox(children=(VBox(children=(BoundedFloatText(value=39.8818, description='min lat', max=90.0, min=-90.0, step…"
      ]
     },
     "metadata": {},
     "output_type": "display_data"
    }
   ],
   "source": [
    "minlatslider = widgets.BoundedFloatText(value=39.8818, min=-90, max=90, step=0.00005, description='min lat')\n",
    "minlonslider = widgets.BoundedFloatText(value=-89.6231, min=-180, max=180, step=0.00005, description='min lon')\n",
    "maxlatslider = widgets.BoundedFloatText(value=42.8818, min=-90, max=90, step=0.00005, description='max lat')\n",
    "maxlonslider = widgets.BoundedFloatText(value=-85.6231, min=-180, max=180, step=0.00005, description='max lon')\n",
    "settovaluebutton = widgets.Button(description='Set Zoom Level')\n",
    "resetbutton = widgets.Button(description='Reset Zoom Level')\n",
    "outmap = widgets.Output()\n",
    "\n",
    "\n",
    "def set_zoom(button):\n",
    "    outmap.clear_output()\n",
    "    wc.fit_bounds([[minlatslider.value, minlonslider.value], [maxlatslider.value, maxlonslider.value]])\n",
    "    osm.fit_bounds([[minlatslider.value, minlonslider.value], [maxlatslider.value, maxlonslider.value]])\n",
    "    with outmap:\n",
    "        display(f)\n",
    "    \n",
    "def clear_zoom(button):\n",
    "    outmap.clear_output()\n",
    "    wc.fit_bounds([[39.881832, -89.623177], [42.881832, -85.623177]])\n",
    "    osm.fit_bounds([[39.881832, -89.623177], [42.881832, -85.623177]])\n",
    "    with outmap:\n",
    "        display(f)\n",
    "    \n",
    "settovaluebutton.on_click(set_zoom)\n",
    "resetbutton.on_click(clear_zoom)\n",
    "\n",
    "with outmap:\n",
    "    display(f)\n",
    "\n",
    "left_box = widgets.VBox([minlatslider, maxlatslider])\n",
    "right_box = widgets.VBox([minlonslider, maxlonslider])\n",
    "button_box = widgets.VBox([settovaluebutton, resetbutton])\n",
    "\n",
    "display(outmap)\n",
    "display(widgets.HBox([left_box, right_box, button_box]))"
   ]
  },
  {
   "cell_type": "code",
   "execution_count": null,
   "metadata": {},
   "outputs": [],
   "source": []
  }
 ],
 "metadata": {
  "kernelspec": {
   "display_name": "Python 3",
   "language": "python",
   "name": "python3"
  },
  "language_info": {
   "codemirror_mode": {
    "name": "ipython",
    "version": 3
   },
   "file_extension": ".py",
   "mimetype": "text/x-python",
   "name": "python",
   "nbconvert_exporter": "python",
   "pygments_lexer": "ipython3",
   "version": "3.7.6"
  }
 },
 "nbformat": 4,
 "nbformat_minor": 4
}
